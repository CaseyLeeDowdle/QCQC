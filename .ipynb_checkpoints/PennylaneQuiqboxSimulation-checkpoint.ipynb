{
 "cells": [
  {
   "cell_type": "code",
   "execution_count": 1,
   "id": "480d7b2b-1960-4b38-8eba-01e533864b84",
   "metadata": {},
   "outputs": [],
   "source": [
    "import pennylane as qml\n",
    "from pennylane import qchem\n",
    "from pennylane import numpy as np"
   ]
  },
  {
   "cell_type": "markdown",
   "id": "2f7ece4d-97d7-4127-b771-4e6de01e9799",
   "metadata": {},
   "source": [
    " test for https://github.com/frankwswang/Quiqbox.jl/blob/main/test/unit-tests/SubModule/Moldens/Test_H2_STO-3G-H2_RHF.molden"
   ]
  },
  {
   "cell_type": "code",
   "execution_count": 2,
   "id": "85cfaf7c-aa89-4624-a362-4838f580ea45",
   "metadata": {},
   "outputs": [
    {
     "name": "stdout",
     "output_type": "stream",
     "text": [
      "0\n",
      "1\n",
      "[(0, 0, 0), (0, 0, 0)]\n",
      "[[3.42525 0.62391 0.16886]\n",
      " [3.42525 0.62391 0.16886]]\n",
      "[[0.15433 0.53533 0.44463]\n",
      " [0.15433 0.53533 0.44463]]\n"
     ]
    },
    {
     "data": {
      "text/plain": [
       "array([-1.11670544])"
      ]
     },
     "execution_count": 2,
     "metadata": {},
     "output_type": "execute_result"
    }
   ],
   "source": [
    "symbols = ['H','H']\n",
    "geometry = np.array([[-0.70014,0.0,0.0],[0.70014,0.0,0.0]],requires_grad=False)\n",
    "l_tuple_array = [(0,0,0),(0,0,0)]\n",
    "exponent_array = np.array([[3.42525,0.62391,0.16886],[3.42525,0.62391,0.16886]],requires_grad=True)\n",
    "contract_coeff_array = np.array([[0.15433,0.53533,0.44463],[0.15433,0.53533,0.44463]],requires_grad=True)\n",
    "\n",
    "H2 = qchem.Molecule(symbols,geometry,charge=0,mult=1,basis_name='sto-3g',\n",
    "                        l=l_tuple_array,alpha=exponent_array,coeff=contract_coeff_array)\n",
    "print(H2.charge)\n",
    "print(H2.mult)\n",
    "print(H2.l)\n",
    "print(H2.alpha)\n",
    "print(H2.coeff)\n",
    "args = [exponent_array,contract_coeff_array]\n",
    "# SCF optimization of basis params using Pennylane\n",
    "qchem.hf_energy(H2)(*args)"
   ]
  },
  {
   "cell_type": "code",
   "execution_count": 3,
   "id": "c2eaa98c-9fbc-46de-a756-2e10b6be4ff7",
   "metadata": {},
   "outputs": [
    {
     "data": {
      "text/plain": [
       "(array([0.71414289]),\n",
       " array([[-1.25270909e+00, -2.13939977e-13],\n",
       "        [-2.13828955e-13, -4.75696482e-01]]),\n",
       " array([[[[6.74569846e-01, 2.46663800e-13],\n",
       "          [2.46774823e-13, 1.81266827e-01]],\n",
       " \n",
       "         [[2.46774823e-13, 1.81266827e-01],\n",
       "          [6.63540037e-01, 2.27928787e-13]]],\n",
       " \n",
       " \n",
       "        [[[2.46608289e-13, 6.63540037e-01],\n",
       "          [1.81266827e-01, 2.28039809e-13]],\n",
       " \n",
       "         [[1.81266827e-01, 2.27595720e-13],\n",
       "          [2.27928787e-13, 6.97467874e-01]]]]))"
      ]
     },
     "execution_count": 3,
     "metadata": {},
     "output_type": "execute_result"
    }
   ],
   "source": [
    "qchem.electron_integrals(H2)(*args)"
   ]
  },
  {
   "cell_type": "code",
   "execution_count": 185,
   "id": "126dfd7d-6900-4441-b0d4-6f51c84e3398",
   "metadata": {},
   "outputs": [],
   "source": [
    "file_path = 'structures/Test_H2_STO-3G-H2_RHF.molden'\n",
    "molden_file_list = []\n",
    "with open(file_path,'r') as f:\n",
    "    molden_file_list.append(f.readlines())\n",
    "\n",
    "molden_file = molden_file_list[0]\n",
    "for i,line in enumerate(molden_file):\n",
    "    if 'Atoms' in line:\n",
    "        n_atom = 0\n",
    "        future_line = 'start'\n",
    "        atom_list = []\n",
    "        atom_coords = []\n",
    "        while '\\n' != future_line:\n",
    "            x = molden_file[i+n_atom+1][:-1].split('    ',8)\n",
    "            x = list(filter(None,x))\n",
    "            atom_list.append(x[:3])\n",
    "            atom_coords.append(np.array(x[3:],dtype=np.float32))\n",
    "            n_atom+=1\n",
    "            future_line = molden_file[i+n_atom+1]\n",
    "            #print(np.float32(x[3]))\n",
    "    if 'GTO' in line:\n",
    "        ind = 0\n",
    "        param_list = []\n",
    "        for j in range(n_atom):\n",
    "            x = molden_file[i+ind+1][:-1].split(' ',2)\n",
    "            x = list(filter(None,x))\n",
    "            y = molden_file[i+ind+2][:-1].split('  ',4)\n",
    "            y = list(filter(None,y))\n",
    "            ind+=3\n",
    "            params = np.zeros((int(y[1]),2))\n",
    "            l = 0\n",
    "            for k in range(ind, ind+int(y[1])):\n",
    "                x = molden_file[i+k][:-1].split('     ',2)\n",
    "                x = list(filter(None,x))\n",
    "                x = np.array(x,dtype=np.float32)\n",
    "                params[l,:] = x\n",
    "                ind+=1\n",
    "                l+=1\n",
    "            param_list.append(params)"
   ]
  },
  {
   "cell_type": "code",
   "execution_count": 187,
   "id": "e5a5dd08-4ea0-4985-8e4d-5c1d8f75c7d0",
   "metadata": {},
   "outputs": [
    {
     "name": "stdout",
     "output_type": "stream",
     "text": [
      "[['H', '1', '1'], ['H', '2', '1']]\n",
      "[tensor([[3.42525005, 0.15433   ],\n",
      "        [0.62391001, 0.53533   ],\n",
      "        [0.16886   , 0.44463   ]], requires_grad=True), tensor([[3.42525005, 0.15433   ],\n",
      "        [0.62391001, 0.53533   ],\n",
      "        [0.16886   , 0.44463   ]], requires_grad=True)]\n",
      "[tensor([-0.70014,  0.     ,  0.     ], dtype=float32, requires_grad=True), tensor([0.70014, 0.     , 0.     ], dtype=float32, requires_grad=True)]\n"
     ]
    }
   ],
   "source": [
    "print(atom_list)\n",
    "print(param_list)\n",
    "print(atom_coords)"
   ]
  }
 ],
 "metadata": {
  "kernelspec": {
   "display_name": "Python 3 (ipykernel)",
   "language": "python",
   "name": "python3"
  },
  "language_info": {
   "codemirror_mode": {
    "name": "ipython",
    "version": 3
   },
   "file_extension": ".py",
   "mimetype": "text/x-python",
   "name": "python",
   "nbconvert_exporter": "python",
   "pygments_lexer": "ipython3",
   "version": "3.10.8"
  }
 },
 "nbformat": 4,
 "nbformat_minor": 5
}
