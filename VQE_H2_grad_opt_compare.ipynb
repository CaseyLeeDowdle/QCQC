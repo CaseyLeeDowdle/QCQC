{
 "cells": [
  {
   "cell_type": "code",
   "execution_count": 17,
   "id": "e27419db-47c2-408e-8f87-dccf70dea62e",
   "metadata": {},
   "outputs": [],
   "source": [
    "import pennylane as qml\n",
    "from pennylane import qchem\n",
    "from pennylane import numpy as np\n",
    "import time"
   ]
  },
  {
   "cell_type": "code",
   "execution_count": 18,
   "id": "661e1d41-5271-4e5c-a673-2372ab0825ea",
   "metadata": {},
   "outputs": [
    {
     "name": "stdout",
     "output_type": "stream",
     "text": [
      "  (-0.24274280046570695) [Z3]\n",
      "+ (-0.2427428004657069) [Z2]\n",
      "+ (-0.042078985393804974) [I0]\n",
      "+ (0.17771287502692473) [Z0]\n",
      "+ (0.17771287502692473) [Z1]\n",
      "+ (0.12293305045310543) [Z0 Z2]\n",
      "+ (0.12293305045310543) [Z1 Z3]\n",
      "+ (0.16768319431880366) [Z0 Z3]\n",
      "+ (0.16768319431880366) [Z1 Z2]\n",
      "+ (0.17059738365074728) [Z0 Z1]\n",
      "+ (0.17627640722394683) [Z2 Z3]\n",
      "+ (-0.044750143865698234) [Y0 Y1 X2 X3]\n",
      "+ (-0.044750143865698234) [X0 X1 Y2 Y3]\n",
      "+ (0.044750143865698234) [Y0 X1 X2 Y3]\n",
      "+ (0.044750143865698234) [X0 Y1 Y2 X3]\n"
     ]
    }
   ],
   "source": [
    "symbols, coordinates = qchem.read_structure('structures/h2.xyz')\n",
    "h, qubits = qchem.molecular_hamiltonian(symbols, coordinates, name=\"h2\")\n",
    "print(h)"
   ]
  },
  {
   "cell_type": "code",
   "execution_count": 19,
   "id": "86f21d5b-3751-4089-9290-8da6b96867ca",
   "metadata": {},
   "outputs": [
    {
     "name": "stdout",
     "output_type": "stream",
     "text": [
      "4\n"
     ]
    }
   ],
   "source": [
    "print(qubits)"
   ]
  },
  {
   "cell_type": "code",
   "execution_count": 20,
   "id": "43314835-b201-4582-ae6a-2b5e8ed35405",
   "metadata": {},
   "outputs": [],
   "source": [
    "electrons = 2  # Molecular hydrogen has two electrons\n",
    "hf_state = qchem.hf_state(electrons,qubits)\n",
    "singles, doubles = qchem.excitations(electrons,qubits)"
   ]
  },
  {
   "cell_type": "code",
   "execution_count": 21,
   "id": "02f793be-5d80-49a0-a8fa-118e554639da",
   "metadata": {},
   "outputs": [
    {
     "name": "stdout",
     "output_type": "stream",
     "text": [
      "[1 1 0 0]\n"
     ]
    }
   ],
   "source": [
    "print(hf_state)"
   ]
  },
  {
   "cell_type": "code",
   "execution_count": 22,
   "id": "0238ab66-c1a7-422e-baf3-7c69117fafbe",
   "metadata": {},
   "outputs": [
    {
     "name": "stdout",
     "output_type": "stream",
     "text": [
      "[[0, 2], [1, 3]]\n",
      "[[0, 1, 2, 3]]\n"
     ]
    }
   ],
   "source": [
    "print(singles)\n",
    "print(doubles)"
   ]
  },
  {
   "cell_type": "code",
   "execution_count": 23,
   "id": "1c7b1c04-1c35-4e6e-9ecc-952056844be3",
   "metadata": {},
   "outputs": [],
   "source": [
    "dev = qml.device(\"braket.local.qubit\", wires=qubits,shots=1000)"
   ]
  },
  {
   "cell_type": "code",
   "execution_count": 24,
   "id": "7de8ac8d-a398-40fd-b85d-9def55d53a0f",
   "metadata": {},
   "outputs": [],
   "source": [
    "wires = dev.wires.tolist()\n",
    "\n",
    "def circuit(params,wires):\n",
    "    qml.templates.AllSinglesDoubles(params,wires,hf_state,singles,doubles)"
   ]
  },
  {
   "cell_type": "code",
   "execution_count": 25,
   "id": "891dad96-c5df-4ebc-9f1e-d21fd1741b15",
   "metadata": {},
   "outputs": [],
   "source": [
    "def initialize_params(singles,doubles,np_seed=100):\n",
    "    np.random.seed(seed=np_seed)\n",
    "    return np.random.normal(0, np.pi, len(singles)+len(doubles))"
   ]
  },
  {
   "cell_type": "code",
   "execution_count": 26,
   "id": "18cfb2a4-222a-46b5-b885-d4fa803e6bd5",
   "metadata": {},
   "outputs": [
    {
     "name": "stdout",
     "output_type": "stream",
     "text": [
      "Number of Pauli terms in h: 15\n",
      "Number of qubit-wise commuting groups: 5\n"
     ]
    }
   ],
   "source": [
    "print(\"Number of Pauli terms in h:\", len(h.ops))\n",
    "groups, coeffs = qml.grouping.group_observables(h.ops,h.coeffs)\n",
    "print(\"Number of qubit-wise commuting groups:\", len(groups))\n",
    "h.compute_grouping()\n",
    "wires = dev.wires.tolist()"
   ]
  },
  {
   "cell_type": "code",
   "execution_count": 27,
   "id": "a04c8da7-926a-42d0-b05a-9cc9d141c67e",
   "metadata": {},
   "outputs": [],
   "source": [
    "@qml.qnode(dev)\n",
    "def energy_expval(params):\n",
    "    circuit(params,wires)\n",
    "    return qml.expval(h)"
   ]
  },
  {
   "cell_type": "code",
   "execution_count": 28,
   "id": "feb5dec4-516c-4574-a7a4-3388b35ffc09",
   "metadata": {},
   "outputs": [
    {
     "name": "stdout",
     "output_type": "stream",
     "text": [
      "3\n",
      "0: ─╭BasisState(M0)─╭G²(3.62)─╭G(-5.50)──────────┤ ╭<𝓗>\n",
      "1: ─├BasisState(M0)─├G²(3.62)─│─────────╭G(1.08)─┤ ├<𝓗>\n",
      "2: ─├BasisState(M0)─├G²(3.62)─╰G(-5.50)─│────────┤ ├<𝓗>\n",
      "3: ─╰BasisState(M0)─╰G²(3.62)───────────╰G(1.08)─┤ ╰<𝓗>\n"
     ]
    }
   ],
   "source": [
    "params0 = initialize_params(singles,doubles)\n",
    "print(len(params0))\n",
    "print(qml.draw(energy_expval)(params0))"
   ]
  },
  {
   "cell_type": "markdown",
   "id": "79c3ecc4-28c5-4fda-ba64-21259d95dbd3",
   "metadata": {
    "jp-MarkdownHeadingCollapsed": true,
    "tags": []
   },
   "source": [
    "### VQE Overview:\n",
    "https://arxiv.org/abs/2111.05176\n",
    "\n",
    "### Optimizers\n",
    "https://docs.pennylane.ai/en/stable/code/api/pennylane.GradientDescentOptimizer.html \\\n",
    "https://docs.pennylane.ai/en/stable/code/api/pennylane.QNGOptimizer.html \\\n",
    "https://docs.pennylane.ai/en/stable/code/api/pennylane.RotosolveOptimizer.html \n",
    "\n",
    "### Circuit Ansatz \n",
    "https://docs.pennylane.ai/en/stable/introduction/templates.html \\\n",
    "https://docs.pennylane.ai/en/stable/code/api/pennylane.AllSinglesDoubles.html \\\n",
    "https://docs.pennylane.ai/en/stable/code/api/pennylane.UCCSD.html"
   ]
  },
  {
   "cell_type": "markdown",
   "id": "10c840af-26af-4c5d-8644-697e4fd23a04",
   "metadata": {},
   "source": [
    "### Future Plans\n",
    "\n",
    "* Compare VQE for ground state energy calc of Hydrogen chains (H2, H4, etc) on pure simulators, noisy simulators, and real QPUs for different choices of \n",
    "    + Optimizers: normal grad opt, quantum natural gradient, and the best gradient free method (Rotosolve?).\n",
    "    + Circuit anatz: AllSinglesDoubles, UCCSD, etc\n",
    "    + Basis sets: To be determined\n",
    "    + Use VQE overview paper https://arxiv.org/abs/2111.05176 to guide selection \n",
    "\n",
    "* Possible ML methods for circuit design using Reinforcement Learning, Transformers, etc\n",
    "* Also simpler ways to design hardware efficent circuits https://pennylane.ai/qml/demos/tutorial_adaptive_circuits.html\n",
    "* ML methods for basis set design, focus on \"data free\" ML techinques i.e. like Normalizing Flows for sampling lattic field theories"
   ]
  },
  {
   "cell_type": "code",
   "execution_count": 44,
   "id": "b48406d3-6cee-459b-b61a-cb6ba7f15753",
   "metadata": {},
   "outputs": [
    {
     "name": "stdout",
     "output_type": "stream",
     "text": [
      "(3,)\n"
     ]
    },
    {
     "data": {
      "text/plain": [
       "array([-0.2609651 , -0.35457224, -0.06581155])"
      ]
     },
     "execution_count": 44,
     "metadata": {},
     "output_type": "execute_result"
    }
   ],
   "source": [
    "weights = np.array(params0,requires_grad=True)\n",
    "print(np.shape(weights))\n",
    "energy_expval(weights)\n",
    "qml.gradients.param_shift(energy_expval)(weights)\n"
   ]
  },
  {
   "cell_type": "code",
   "execution_count": 29,
   "id": "fc5f80bb-a9f5-4341-b2de-d36f7d5350f6",
   "metadata": {},
   "outputs": [],
   "source": [
    "STEPSIZE = 0.4\n",
    "opt_classical = qml.GradientDescentOptimizer(stepsize=STEPSIZE)\n",
    "ITERATIONS = 40"
   ]
  },
  {
   "cell_type": "code",
   "execution_count": 34,
   "id": "7ae48545-b4c7-46ac-90c0-d1300d860cdb",
   "metadata": {},
   "outputs": [],
   "source": [
    "def run_vqe(energy_expval, opt,initial_params, iterations):\n",
    "    energies = []\n",
    "    runtime = []\n",
    "    params = initial_params\n",
    "    t0 = time.time()\n",
    "    for i in range(iterations):\n",
    "        params,e = opt.step_and_cost(energy_expval,params)\n",
    "        energies.append(e)\n",
    "        ti = time.time()\n",
    "        runtime.append(ti-t0)\n",
    "        if (i+1) % 5 == 0:\n",
    "            print(f\"Completed iteration {i + 1}\")\n",
    "            print(\"Energy:\", e)\n",
    "            print(\"----------------\")\n",
    "    print(f\"Optimized energy: {e} Ha\")\n",
    "    return energies,runtime"
   ]
  },
  {
   "cell_type": "code",
   "execution_count": 42,
   "id": "3c8aa94a-bfb8-4d9b-80a4-cfdefb24cc22",
   "metadata": {
    "tags": []
   },
   "outputs": [
    {
     "name": "stdout",
     "output_type": "stream",
     "text": [
      "Completed iteration 5\n",
      "Energy: -0.15408196516252604\n",
      "----------------\n",
      "Optimized energy: -0.15408196516252604 Ha\n"
     ]
    }
   ],
   "source": [
    "energies_classical_opt,runtime_class = run_vqe(energy_expval,opt_classical,params0,5)"
   ]
  },
  {
   "cell_type": "code",
   "execution_count": 15,
   "id": "65f3154a-0330-4d4f-8c59-1aba716bb80d",
   "metadata": {},
   "outputs": [
    {
     "name": "stdout",
     "output_type": "stream",
     "text": [
      "Completed iteration 5\n",
      "Energy: -0.7889292804559158\n",
      "----------------\n",
      "Completed iteration 10\n",
      "Energy: -1.1415244788242813\n",
      "----------------\n",
      "Completed iteration 15\n",
      "Energy: -1.133918983791276\n",
      "----------------\n",
      "Completed iteration 20\n",
      "Energy: -1.1355134673569123\n",
      "----------------\n",
      "Completed iteration 25\n",
      "Energy: -1.1350491124473159\n",
      "----------------\n",
      "Completed iteration 30\n",
      "Energy: -1.131794848914375\n",
      "----------------\n",
      "Completed iteration 35\n",
      "Energy: -1.1315376136259139\n",
      "----------------\n",
      "Completed iteration 40\n",
      "Energy: -1.1332763380861273\n",
      "----------------\n",
      "Optimized energy: -1.1332763380861273 Ha\n"
     ]
    }
   ],
   "source": [
    "energy_expval_modified = qml.ExpvalCost(circuit,h,dev)\n",
    "opt_quantum = qml.QNGOptimizer(stepsize=STEPSIZE)\n",
    "\n",
    "energies_quantum_opt,runtime_quant = run_vqe(energy_expval_modified,opt_quantum,params0,ITERATIONS)"
   ]
  },
  {
   "cell_type": "code",
   "execution_count": 21,
   "id": "712fcb9e-8b2a-4bd3-84f3-335831f29b58",
   "metadata": {},
   "outputs": [
    {
     "data": {
      "text/plain": [
       "<matplotlib.legend.Legend at 0x7fa0c5951360>"
      ]
     },
     "execution_count": 21,
     "metadata": {},
     "output_type": "execute_result"
    },
    {
     "data": {
      "image/png": "[encoded data removed]",
      "text/plain": [
       "<Figure size 432x288 with 1 Axes>"
      ]
     },
     "metadata": {
      "needs_background": "light"
     },
     "output_type": "display_data"
    }
   ],
   "source": [
    "import matplotlib.pyplot as plt\n",
    "from mpl_toolkits.axes_grid1.inset_locator import inset_axes\n",
    "\n",
    "theory_energy = -1.136189454088\n",
    "\n",
    "plt.hlines(theory_energy, 0, ITERATIONS-1, linestyles=\"dashed\", colors=\"black\",label='theory energy')\n",
    "plt.plot(energies_classical_opt,label='Classical Grad Descent')\n",
    "plt.plot(energies_quantum_opt,label='Natural Quantum Gradient')\n",
    "plt.xlabel(\"Steps\")\n",
    "plt.ylabel(\"Energy (Ha)\")\n",
    "plt.title('VQE on H2 Simulator Grad Opt Comparison')\n",
    "plt.legend()\n",
    "#plt.savefig('H2_VQE_ionq_10_shots.png')"
   ]
  },
  {
   "cell_type": "code",
   "execution_count": 22,
   "id": "1e97990e-19fa-4195-8f17-db9664f5e9a6",
   "metadata": {},
   "outputs": [
    {
     "data": {
      "text/plain": [
       "<matplotlib.legend.Legend at 0x7fa0a075ef50>"
      ]
     },
     "execution_count": 22,
     "metadata": {},
     "output_type": "execute_result"
    },
    {
     "data": {
      "image/png": "[encoded data removed]",
      "text/plain": [
       "<Figure size 432x288 with 1 Axes>"
      ]
     },
     "metadata": {
      "needs_background": "light"
     },
     "output_type": "display_data"
    }
   ],
   "source": [
    "plt.plot(runtime_class,label='Classical Grad Descent')\n",
    "plt.plot(runtime_quant,label='Natural Quantum Gradient')\n",
    "plt.xlabel(\"Steps\")\n",
    "plt.ylabel(\"Runtime (S)\")\n",
    "plt.title('VQE on H2 Simulator Grad Opt Comparison')\n",
    "plt.legend()"
   ]
  },
  {
   "cell_type": "code",
   "execution_count": 58,
   "id": "c135d131-0f5d-43a8-85da-17dc42010900",
   "metadata": {},
   "outputs": [
    {
     "name": "stdout",
     "output_type": "stream",
     "text": [
      "1.00E+06\n",
      "cost: 42036.0\n"
     ]
    }
   ],
   "source": [
    "eps = 10**(-3)\n",
    "N_shots = 1/eps**2\n",
    "N_qubits = 2\n",
    "N_pauli_ops = 6\n",
    "N_params = 1\n",
    "N_iters = 10\n",
    "print('%.2E' %(N_shots))\n",
    "\n",
    "# Rigetti — Aspen-M-2 \n",
    "cost_per_shot = 0.00035\n",
    "cost_per_task = 0.30 \n",
    "\n",
    "N_tasks = N_iters*N_pauli_ops*N_params*2\n",
    "N_shots_total = N_shots*N_tasks\n",
    "\n",
    "print('cost:', cost_per_shot*N_shots_total + cost_per_task*N_tasks)"
   ]
  },
  {
   "cell_type": "code",
   "execution_count": null,
   "id": "cdc8ecae-c8ea-4911-bf51-7104784feecf",
   "metadata": {},
   "outputs": [],
   "source": [
    "# Ionq: $0.30 / task + $0.01 / shot\n",
    "# Rigetti — Aspen-M-2 $0.30 / task + $0.00035 / shot"
   ]
  }
 ],
 "metadata": {
  "kernelspec": {
   "display_name": "Python 3 (ipykernel)",
   "language": "python",
   "name": "python3"
  },
  "language_info": {
   "codemirror_mode": {
    "name": "ipython",
    "version": 3
   },
   "file_extension": ".py",
   "mimetype": "text/x-python",
   "name": "python",
   "nbconvert_exporter": "python",
   "pygments_lexer": "ipython3",
   "version": "3.10.8"
  }
 },
 "nbformat": 4,
 "nbformat_minor": 5
}
