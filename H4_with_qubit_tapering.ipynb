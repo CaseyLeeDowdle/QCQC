{
 "cells": [
  {
   "cell_type": "code",
   "execution_count": 2,
   "id": "a156d599-1a2b-4c6c-8a73-0cf84ca4c998",
   "metadata": {},
   "outputs": [],
   "source": [
    "import pennylane as qml\n",
    "from pennylane import qchem\n",
    "from pennylane import numpy as np\n",
    "import time\n",
    "import matplotlib.pyplot as plt"
   ]
  },
  {
   "cell_type": "code",
   "execution_count": 3,
   "id": "d4f542b1-f06c-4c99-89d0-48ef50240c0b",
   "metadata": {},
   "outputs": [
    {
     "name": "stdout",
     "output_type": "stream",
     "text": [
      "Help on function molecular_hamiltonian in module pennylane.qchem.openfermion_obs:\n",
      "\n",
      "molecular_hamiltonian(symbols, coordinates, name='molecule', charge=0, mult=1, basis='sto-3g', method='dhf', active_electrons=None, active_orbitals=None, mapping='jordan_wigner', outpath='.', wires=None, alpha=None, coeff=None, args=None, grouping_type=None, grouping_method='rlf')\n",
      "    Generate the qubit Hamiltonian of a molecule.\n",
      "    \n",
      "    This function drives the construction of the second-quantized electronic Hamiltonian\n",
      "    of a molecule and its transformation to the basis of Pauli matrices.\n",
      "    \n",
      "    The net charge of the molecule can be given to simulate cationic/anionic systems. Also, the\n",
      "    spin multiplicity can be input to determine the number of unpaired electrons occupying the HF\n",
      "    orbitals as illustrated in the left panel of the figure below.\n",
      "    \n",
      "    The basis of Gaussian-type *atomic* orbitals used to represent the *molecular* orbitals can be\n",
      "    specified to go beyond the minimum basis approximation.\n",
      "    \n",
      "    An active space can be defined for a given number of *active electrons* occupying a reduced set\n",
      "    of *active orbitals* as sketched in the right panel of the figure below.\n",
      "    \n",
      "    |\n",
      "    \n",
      "    .. figure:: ../../_static/qchem/fig_mult_active_space.png\n",
      "        :align: center\n",
      "        :width: 90%\n",
      "    \n",
      "    |\n",
      "    \n",
      "    Args:\n",
      "        symbols (list[str]): symbols of the atomic species in the molecule\n",
      "        coordinates (array[float]): atomic positions in Cartesian coordinates.\n",
      "            The atomic coordinates must be in atomic units and can be given as either a 1D array of\n",
      "            size ``3*N``, or a 2D array of shape ``(N, 3)`` where ``N`` is the number of atoms.\n",
      "        name (str): name of the molecule\n",
      "        charge (int): Net charge of the molecule. If not specified a neutral system is assumed.\n",
      "        mult (int): Spin multiplicity :math:`\\mathrm{mult}=N_\\mathrm{unpaired} + 1`\n",
      "            for :math:`N_\\mathrm{unpaired}` unpaired electrons occupying the HF orbitals.\n",
      "            Possible values of ``mult`` are :math:`1, 2, 3, \\ldots`. If not specified,\n",
      "            a closed-shell HF state is assumed.\n",
      "        basis (str): atomic basis set used to represent the molecular orbitals\n",
      "        method (str): Quantum chemistry method used to solve the\n",
      "            mean field electronic structure problem. Available options are ``method=\"dhf\"``\n",
      "            to specify the built-in differentiable Hartree-Fock solver, or ``method=\"pyscf\"``\n",
      "            to use the OpenFermion-PySCF plugin (this requires that ``openfermionpyscf`` be installed).\n",
      "        active_electrons (int): Number of active electrons. If not specified, all electrons\n",
      "            are considered to be active.\n",
      "        active_orbitals (int): Number of active orbitals. If not specified, all orbitals\n",
      "            are considered to be active.\n",
      "        mapping (str): transformation used to map the fermionic Hamiltonian to the qubit Hamiltonian\n",
      "        outpath (str): path to the directory containing output files\n",
      "        wires (Wires, list, tuple, dict): Custom wire mapping for connecting to Pennylane ansatz.\n",
      "            For types ``Wires``/``list``/``tuple``, each item in the iterable represents a wire label\n",
      "            corresponding to the qubit number equal to its index.\n",
      "            For type dict, only int-keyed dict (for qubit-to-wire conversion) is accepted for\n",
      "            partial mapping. If None, will use identity map.\n",
      "        alpha (array[float]): exponents of the primitive Gaussian functions\n",
      "        coeff (array[float]): coefficients of the contracted Gaussian functions\n",
      "        args (array[array[float]]): initial values of the differentiable parameters\n",
      "        grouping_type (str): method to group commuting observables\n",
      "        grouping_method (str): the graph coloring heuristic to use in solving minimum clique cover\n",
      "            for grouping\n",
      "    \n",
      "    Returns:\n",
      "        tuple[pennylane.Hamiltonian, int]: the fermionic-to-qubit transformed Hamiltonian\n",
      "        and the number of qubits\n",
      "    \n",
      "    **Example**\n",
      "    \n",
      "    >>> symbols, coordinates = (['H', 'H'], np.array([0., 0., -0.66140414, 0., 0., 0.66140414]))\n",
      "    >>> H, qubits = molecular_hamiltonian(symbols, coordinates)\n",
      "    >>> print(qubits)\n",
      "    4\n",
      "    >>> print(H)\n",
      "    (-0.04207897647782188) [I0]\n",
      "    + (0.17771287465139934) [Z0]\n",
      "    + (0.1777128746513993) [Z1]\n",
      "    + (-0.24274280513140484) [Z2]\n",
      "    + (-0.24274280513140484) [Z3]\n",
      "    + (0.17059738328801055) [Z0 Z1]\n",
      "    + (0.04475014401535161) [Y0 X1 X2 Y3]\n",
      "    + (-0.04475014401535161) [Y0 Y1 X2 X3]\n",
      "    + (-0.04475014401535161) [X0 X1 Y2 Y3]\n",
      "    + (0.04475014401535161) [X0 Y1 Y2 X3]\n",
      "    + (0.12293305056183801) [Z0 Z2]\n",
      "    + (0.1676831945771896) [Z0 Z3]\n",
      "    + (0.1676831945771896) [Z1 Z2]\n",
      "    + (0.12293305056183801) [Z1 Z3]\n",
      "    + (0.176276408043196) [Z2 Z3]\n",
      "\n"
     ]
    }
   ],
   "source": [
    "help(qml.qchem.molecular_hamiltonian)"
   ]
  },
  {
   "cell_type": "code",
   "execution_count": 4,
   "id": "68639302-ecf3-4839-a693-91a60becfc79",
   "metadata": {},
   "outputs": [],
   "source": [
    "symbols = [\"H\",\"H\"]\n",
    "geometry = np.array([[0.0,0.0,-0.70],[0.0, 0.0, 0.70]])\n",
    "\n",
    "H, qubits = qml.qchem.molecular_hamiltonian(symbols,geometry,charge=0)"
   ]
  },
  {
   "cell_type": "code",
   "execution_count": 5,
   "id": "205035fa-0bf5-4de7-8abb-d5184f1bf330",
   "metadata": {},
   "outputs": [
    {
     "name": "stdout",
     "output_type": "stream",
     "text": [
      "  (-0.22304019968520916) [Z2]\n",
      "+ (-0.22304019968520916) [Z3]\n",
      "+ (-0.09815626345048423) [I0]\n",
      "+ (0.171282493274637) [Z0]\n",
      "+ (0.171282493274637) [Z1]\n",
      "+ (0.1205765190279041) [Z0 Z2]\n",
      "+ (0.1205765190279041) [Z1 Z3]\n",
      "+ (0.16589099757500472) [Z0 Z3]\n",
      "+ (0.16589099757500472) [Z1 Z2]\n",
      "+ (0.16864852145292916) [Z0 Z1]\n",
      "+ (0.17437383589859615) [Z2 Z3]\n",
      "+ (-0.04531447854710061) [Y0 Y1 X2 X3]\n",
      "+ (-0.04531447854710061) [X0 X1 Y2 Y3]\n",
      "+ (0.04531447854710061) [Y0 X1 X2 Y3]\n",
      "+ (0.04531447854710061) [X0 Y1 Y2 X3]\n"
     ]
    }
   ],
   "source": [
    "print(H)"
   ]
  },
  {
   "cell_type": "code",
   "execution_count": 4,
   "id": "173abc79-007c-40e2-b285-2bfa6dd058f7",
   "metadata": {},
   "outputs": [
    {
     "name": "stdout",
     "output_type": "stream",
     "text": [
      "8\n"
     ]
    }
   ],
   "source": [
    "print(qubits)"
   ]
  },
  {
   "cell_type": "code",
   "execution_count": 6,
   "id": "16c3fd4f-1126-48e7-9c99-2cc948f5e089",
   "metadata": {},
   "outputs": [],
   "source": [
    "generators = qml.symmetry_generators(H)\n",
    "paulixops = qml.paulix_ops(generators,qubits)"
   ]
  },
  {
   "cell_type": "code",
   "execution_count": 7,
   "id": "bac22624-81f1-45fd-a61d-50f7bd469c6a",
   "metadata": {},
   "outputs": [
    {
     "name": "stdout",
     "output_type": "stream",
     "text": [
      "generator 1:   (1.0) [Z0 Z1], paulix_op: PauliX(wires=[1])\n",
      "generator 2:   (1.0) [Z0 Z2], paulix_op: PauliX(wires=[2])\n",
      "generator 3:   (1.0) [Z0 Z3], paulix_op: PauliX(wires=[3])\n"
     ]
    }
   ],
   "source": [
    "for idx, generator in enumerate(generators):\n",
    "    print(f\"generator {idx+1}: {generator}, paulix_op: {paulixops[idx]}\")"
   ]
  },
  {
   "cell_type": "code",
   "execution_count": 8,
   "id": "5e9a723a-4a71-4fc9-af98-871bbb3a43a6",
   "metadata": {},
   "outputs": [
    {
     "name": "stdout",
     "output_type": "stream",
     "text": [
      "[1, -1, -1]\n"
     ]
    }
   ],
   "source": [
    "n_electrons = 2\n",
    "paulix_sector = qml.qchem.optimal_sector(H,generators,n_electrons)\n",
    "print(paulix_sector)"
   ]
  },
  {
   "cell_type": "code",
   "execution_count": 9,
   "id": "88bdecbb-64aa-4eda-9f59-b23287c01709",
   "metadata": {},
   "outputs": [
    {
     "name": "stdout",
     "output_type": "stream",
     "text": [
      "  ((-0.32806893930477643+0j)) [I0]\n",
      "+ ((0.18125791418840234+0j)) [X0]\n",
      "+ ((0.7886453859196918+0j)) [Z0]\n"
     ]
    }
   ],
   "source": [
    "H_tapered = qml.taper(H, generators, paulixops, paulix_sector)\n",
    "print(H_tapered)"
   ]
  },
  {
   "cell_type": "code",
   "execution_count": 9,
   "id": "70cf30f6-fd35-474c-81bb-2dc8ac8f5144",
   "metadata": {},
   "outputs": [
    {
     "name": "stdout",
     "output_type": "stream",
     "text": [
      "Eigenvalues of H:\n",
      " [-1.47924833 -0.90625234 -0.90625234 -0.15277341 -0.50270799 -0.50270799\n",
      " -0.36077427 -0.36077427  0.2082724   0.2396423  -0.39067699 -0.39067699\n",
      " -0.39067699  0.01044941  0.01044941  0.01044941]\n",
      "\n",
      "Eigenvalues of H_tapered:\n",
      " [-1.47924833  0.01044941  0.2082724   0.92486939]\n"
     ]
    }
   ],
   "source": [
    "H_sparse = qml.SparseHamiltonian(qml.utils.sparse_hamiltonian(H), wires=H.wires)\n",
    "H_tapered_sparse = qml.SparseHamiltonian(qml.utils.sparse_hamiltonian(H_tapered), wires=H_tapered.wires)\n",
    "\n",
    "print(\"Eigenvalues of H:\\n\", qml.eigvals(H_sparse, k=16))\n",
    "print(\"\\nEigenvalues of H_tapered:\\n\", qml.eigvals(H_tapered_sparse, k=4))"
   ]
  },
  {
   "cell_type": "code",
   "execution_count": 10,
   "id": "283e4f5b-46e3-4b37-b17b-76769f7eca1e",
   "metadata": {},
   "outputs": [
    {
     "name": "stdout",
     "output_type": "stream",
     "text": [
      "[1 1 1 1 0]\n"
     ]
    }
   ],
   "source": [
    "state_tapered = qml.qchem.taper_hf(generators, paulixops, paulix_sector,\n",
    "                                   num_electrons=n_electrons, num_wires=len(H.wires))\n",
    "print(state_tapered)"
   ]
  },
  {
   "cell_type": "code",
   "execution_count": 11,
   "id": "daf4cf2b-f24c-4b3e-99b1-b9bf18da7b0b",
   "metadata": {},
   "outputs": [],
   "source": [
    "singles, doubles = qml.qchem.excitations(n_electrons, len(H.wires))\n",
    "tapered_doubles = [ qchem.taper_operation(qml.DoubleExcitation, generators, paulixops, paulix_sector,\n",
    "                        wire_order=H.wires, op_wires=double) for double in doubles]\n",
    "tapered_singles = [\n",
    "    qchem.taper_operation(qml.SingleExcitation, generators, paulixops, paulix_sector,\n",
    "                        wire_order=H.wires, op_wires=single) for single in singles]\n",
    "\n",
    "dev = qml.device(\"default.qubit\", wires=H_tapered.wires)\n",
    "@qml.qnode(dev)\n",
    "def tapered_circuit(params):\n",
    "    qml.BasisState(state_tapered, wires=H_tapered.wires)\n",
    "    for idx, tapered_op in enumerate(tapered_doubles + tapered_singles):\n",
    "        tapered_op(params[idx])\n",
    "    return qml.expval(H_tapered)\n"
   ]
  },
  {
   "cell_type": "code",
   "execution_count": 14,
   "id": "f4418cc9-4745-476a-9fd1-c3452eca1b0c",
   "metadata": {},
   "outputs": [
    {
     "data": {
      "text/plain": [
       "[<matplotlib.lines.Line2D at 0x7fbe14911f30>]"
      ]
     },
     "execution_count": 14,
     "metadata": {},
     "output_type": "execute_result"
    },
    {
     "data": {
      "image/png": "[encoded data removed]",
      "text/plain": [
       "<Figure size 640x480 with 1 Axes>"
      ]
     },
     "metadata": {},
     "output_type": "display_data"
    }
   ],
   "source": [
    "optimizer = qml.GradientDescentOptimizer(stepsize=0.1)\n",
    "params = np.zeros(len(doubles) + len(singles), requires_grad=True)\n",
    "energy_list = []\n",
    "for n in range(1, 41):\n",
    "    params, energy = optimizer.step_and_cost(tapered_circuit, params)\n",
    "    energy_list.append(energy)\n",
    "        \n",
    "plt.plot(energy_list) "
   ]
  },
  {
   "cell_type": "code",
   "execution_count": 15,
   "id": "ff5e14e2-0abc-4a05-a57a-fc4040682d98",
   "metadata": {},
   "outputs": [
    {
     "name": "stdout",
     "output_type": "stream",
     "text": [
      "0: ─╭BasisState(M0)─╭Exp(-0.00-0.01j Y@Y@Y)─╭Exp(0.00+0.01j X@X@Y)─╭Exp(-0.00-0.01j X@Y@X)\n",
      "1: ─├BasisState(M0)─├Exp(-0.00-0.01j Y@Y@Y)─├Exp(0.00+0.01j X@X@Y)─├Exp(-0.00-0.01j X@Y@X)\n",
      "2: ─├BasisState(M0)─│───────────────────────│──────────────────────│──────────────────────\n",
      "3: ─├BasisState(M0)─│───────────────────────│──────────────────────│──────────────────────\n",
      "4: ─╰BasisState(M0)─╰Exp(-0.00-0.01j Y@Y@Y)─╰Exp(0.00+0.01j X@X@Y)─╰Exp(-0.00-0.01j X@Y@X)\n",
      "\n",
      "──╭Exp(-0.00-0.01j Y@X@X)─╭Exp(0.00+0.00j Y@X@Z@Z)─╭Exp(0.00+0.00j Y@X@Z@Z)─╭Exp(-0.00-0.00j X@Y)\n",
      "──├Exp(-0.00-0.01j Y@X@X)─├Exp(0.00+0.00j Y@X@Z@Z)─├Exp(0.00+0.00j Y@X@Z@Z)─╰Exp(-0.00-0.00j X@Y)\n",
      "──│───────────────────────│────────────────────────├Exp(0.00+0.00j Y@X@Z@Z)──────────────────────\n",
      "──│───────────────────────├Exp(0.00+0.00j Y@X@Z@Z)─│─────────────────────────────────────────────\n",
      "──╰Exp(-0.00-0.01j Y@X@X)─╰Exp(0.00+0.00j Y@X@Z@Z)─╰Exp(0.00+0.00j Y@X@Z@Z)──────────────────────\n",
      "\n",
      "──╭Exp(-0.00-0.00j X@Y@Z@Z)─╭Exp(-0.00-0.00j Y@X)─╭Exp(-0.00-0.00j Y@X@Z@Z)─╭Exp(0.00+0.00j X@Y@Z@Z)\n",
      "──├Exp(-0.00-0.00j X@Y@Z@Z)─╰Exp(-0.00-0.00j Y@X)─├Exp(-0.00-0.00j Y@X@Z@Z)─├Exp(0.00+0.00j X@Y@Z@Z)\n",
      "──├Exp(-0.00-0.00j X@Y@Z@Z)───────────────────────├Exp(-0.00-0.00j Y@X@Z@Z)─│───────────────────────\n",
      "──╰Exp(-0.00-0.00j X@Y@Z@Z)───────────────────────╰Exp(-0.00-0.00j Y@X@Z@Z)─├Exp(0.00+0.00j X@Y@Z@Z)\n",
      "────────────────────────────────────────────────────────────────────────────╰Exp(0.00+0.00j X@Y@Z@Z)\n",
      "\n",
      "──╭Exp(0.00+0.00j X@Y@Z@Z)─╭Exp(0.00+0.00j Y@Y@Y)─╭Exp(0.00-0.00j X@X@Y)─╭Exp(0.00+0.00j X@Y@X)\n",
      "──├Exp(0.00+0.00j X@Y@Z@Z)─│──────────────────────│──────────────────────│─────────────────────\n",
      "──├Exp(0.00+0.00j X@Y@Z@Z)─├Exp(0.00+0.00j Y@Y@Y)─├Exp(0.00-0.00j X@X@Y)─├Exp(0.00+0.00j X@Y@X)\n",
      "──│────────────────────────│──────────────────────│──────────────────────│─────────────────────\n",
      "──╰Exp(0.00+0.00j X@Y@Z@Z)─╰Exp(0.00+0.00j Y@Y@Y)─╰Exp(0.00-0.00j X@X@Y)─╰Exp(0.00+0.00j X@Y@X)\n",
      "\n",
      "──╭Exp(0.00+0.00j Y@X@X)─╭Exp(-0.00-0.01j Y@Y@Y)─╭Exp(0.00+0.01j X@X@Y)─╭Exp(-0.00-0.01j X@Y@X)\n",
      "──│──────────────────────│───────────────────────│──────────────────────│──────────────────────\n",
      "──├Exp(0.00+0.00j Y@X@X)─│───────────────────────│──────────────────────│──────────────────────\n",
      "──│──────────────────────├Exp(-0.00-0.01j Y@Y@Y)─├Exp(0.00+0.01j X@X@Y)─├Exp(-0.00-0.01j X@Y@X)\n",
      "──╰Exp(0.00+0.00j Y@X@X)─╰Exp(-0.00-0.01j Y@Y@Y)─╰Exp(0.00+0.01j X@X@Y)─╰Exp(-0.00-0.01j X@Y@X)\n",
      "\n",
      "──╭Exp(-0.00-0.01j Y@X@X)─╭Exp(0.00-0.00j Y@Z@X@Z)─╭Exp(0.00-0.00j Y@Z@X@Z)─╭Exp(0.00+0.00j X@Y)\n",
      "──│───────────────────────│────────────────────────├Exp(0.00-0.00j Y@Z@X@Z)─│───────────────────\n",
      "──│───────────────────────├Exp(0.00-0.00j Y@Z@X@Z)─│────────────────────────│───────────────────\n",
      "──├Exp(-0.00-0.01j Y@X@X)─├Exp(0.00-0.00j Y@Z@X@Z)─├Exp(0.00-0.00j Y@Z@X@Z)─╰Exp(0.00+0.00j X@Y)\n",
      "──╰Exp(-0.00-0.01j Y@X@X)─╰Exp(0.00-0.00j Y@Z@X@Z)─╰Exp(0.00-0.00j Y@Z@X@Z)─────────────────────\n",
      "\n",
      "──╭Exp(0.00+0.00j X@Z@Z@Y)─╭Exp(0.00+0.00j Y@X)─╭Exp(0.00+0.00j Y@Z@Z@X)─╭Exp(0.00-0.00j X@Z@Y@Z)\n",
      "──├Exp(0.00+0.00j X@Z@Z@Y)─│────────────────────├Exp(0.00+0.00j Y@Z@Z@X)─│───────────────────────\n",
      "──├Exp(0.00+0.00j X@Z@Z@Y)─│────────────────────├Exp(0.00+0.00j Y@Z@Z@X)─├Exp(0.00-0.00j X@Z@Y@Z)\n",
      "──╰Exp(0.00+0.00j X@Z@Z@Y)─╰Exp(0.00+0.00j Y@X)─╰Exp(0.00+0.00j Y@Z@Z@X)─├Exp(0.00-0.00j X@Z@Y@Z)\n",
      "─────────────────────────────────────────────────────────────────────────╰Exp(0.00-0.00j X@Z@Y@Z)\n",
      "\n",
      "──╭Exp(0.00-0.00j X@Z@Y@Z)─╭Exp(0.00-0.00j Z@X@X@Z@Y)──────────────────────────────────────────────\n",
      "──├Exp(0.00-0.00j X@Z@Y@Z)─├Exp(0.00-0.00j Z@X@X@Z@Y)─╭Exp(0.00-0.00j X@X@Y)─╭Exp(0.00+0.00j X@Y@X)\n",
      "──│────────────────────────├Exp(0.00-0.00j Z@X@X@Z@Y)─├Exp(0.00-0.00j X@X@Y)─├Exp(0.00+0.00j X@Y@X)\n",
      "──├Exp(0.00-0.00j X@Z@Y@Z)─├Exp(0.00-0.00j Z@X@X@Z@Y)─│──────────────────────│─────────────────────\n",
      "──╰Exp(0.00-0.00j X@Z@Y@Z)─╰Exp(0.00-0.00j Z@X@X@Z@Y)─╰Exp(0.00-0.00j X@X@Y)─╰Exp(0.00+0.00j X@Y@X)\n",
      "\n",
      "──╭Exp(0.00+0.00j Z@X@Y@Z@X)────────────────────────╭Exp(0.00+0.00j Z@Y@X@Z@X)\n",
      "──├Exp(0.00+0.00j Z@X@Y@Z@X)─╭Exp(0.00+0.00j Y@X@X)─├Exp(0.00+0.00j Z@Y@X@Z@X)\n",
      "──├Exp(0.00+0.00j Z@X@Y@Z@X)─├Exp(0.00+0.00j Y@X@X)─├Exp(0.00+0.00j Z@Y@X@Z@X)\n",
      "──├Exp(0.00+0.00j Z@X@Y@Z@X)─│──────────────────────├Exp(0.00+0.00j Z@Y@X@Z@X)\n",
      "──╰Exp(0.00+0.00j Z@X@Y@Z@X)─╰Exp(0.00+0.00j Y@X@X)─╰Exp(0.00+0.00j Z@Y@X@Z@X)\n",
      "\n",
      "──╭Exp(0.00+0.00j Z@Y@Y@Z@Y)────────────────────────╭Exp(0.00+0.01j Z@X@Y@Z)\n",
      "──├Exp(0.00+0.00j Z@Y@Y@Z@Y)─╭Exp(0.00+0.00j Y@Y@Y)─├Exp(0.00+0.01j Z@X@Y@Z)\n",
      "──├Exp(0.00+0.00j Z@Y@Y@Z@Y)─├Exp(0.00+0.00j Y@Y@Y)─├Exp(0.00+0.01j Z@X@Y@Z)\n",
      "──├Exp(0.00+0.00j Z@Y@Y@Z@Y)─│──────────────────────│───────────────────────\n",
      "──╰Exp(0.00+0.00j Z@Y@Y@Z@Y)─╰Exp(0.00+0.00j Y@Y@Y)─╰Exp(0.00+0.01j Z@X@Y@Z)\n",
      "\n",
      "──╭Exp(0.00+0.01j Z@Y@X@Z)─────────────────────────────────────────────╭Exp(0.00-0.00j Z@X@Y@Z)\n",
      "──├Exp(0.00+0.01j Z@Y@X@Z)─╭Exp(-0.00-0.01j X@Y)─╭Exp(-0.00-0.01j Y@X)─├Exp(0.00-0.00j Z@X@Y@Z)\n",
      "──├Exp(0.00+0.01j Z@Y@X@Z)─╰Exp(-0.00-0.01j X@Y)─╰Exp(-0.00-0.01j Y@X)─│───────────────────────\n",
      "──│────────────────────────────────────────────────────────────────────├Exp(0.00-0.00j Z@X@Y@Z)\n",
      "──╰Exp(0.00+0.01j Z@Y@X@Z)─────────────────────────────────────────────╰Exp(0.00-0.00j Z@X@Y@Z)\n",
      "\n",
      "──╭Exp(0.00-0.00j Z@Y@X@Z)───────────────────────────────────────────╭Exp(0.00+0.01j Z@Z@X@X@Y)\n",
      "──├Exp(0.00-0.00j Z@Y@X@Z)─╭Exp(0.00+0.00j X@Y)─╭Exp(0.00+0.00j Y@X)─├Exp(0.00+0.01j Z@Z@X@X@Y)\n",
      "──│────────────────────────│────────────────────│────────────────────├Exp(0.00+0.01j Z@Z@X@X@Y)\n",
      "──├Exp(0.00-0.00j Z@Y@X@Z)─╰Exp(0.00+0.00j X@Y)─╰Exp(0.00+0.00j Y@X)─├Exp(0.00+0.01j Z@Z@X@X@Y)\n",
      "──╰Exp(0.00-0.00j Z@Y@X@Z)───────────────────────────────────────────╰Exp(0.00+0.01j Z@Z@X@X@Y)\n",
      "\n",
      "─────────────────────────────────────────────────╭Exp(-0.00-0.01j Z@Z@X@Y@X)────────────────────────\n",
      "─────────────────────────────────────────────────├Exp(-0.00-0.01j Z@Z@X@Y@X)────────────────────────\n",
      "──╭Exp(0.00+0.01j X@X@Y)─╭Exp(-0.00-0.01j X@Y@X)─├Exp(-0.00-0.01j Z@Z@X@Y@X)─╭Exp(-0.00-0.01j Y@X@X)\n",
      "──├Exp(0.00+0.01j X@X@Y)─├Exp(-0.00-0.01j X@Y@X)─├Exp(-0.00-0.01j Z@Z@X@Y@X)─├Exp(-0.00-0.01j Y@X@X)\n",
      "──╰Exp(0.00+0.01j X@X@Y)─╰Exp(-0.00-0.01j X@Y@X)─╰Exp(-0.00-0.01j Z@Z@X@Y@X)─╰Exp(-0.00-0.01j Y@X@X)\n",
      "\n",
      "──╭Exp(-0.00-0.01j Z@Z@Y@X@X)─╭Exp(-0.00-0.01j Z@Z@Y@Y@Y)────────────────────────\n",
      "──├Exp(-0.00-0.01j Z@Z@Y@X@X)─├Exp(-0.00-0.01j Z@Z@Y@Y@Y)────────────────────────\n",
      "──├Exp(-0.00-0.01j Z@Z@Y@X@X)─├Exp(-0.00-0.01j Z@Z@Y@Y@Y)─╭Exp(-0.00-0.01j Y@Y@Y)\n",
      "──├Exp(-0.00-0.01j Z@Z@Y@X@X)─├Exp(-0.00-0.01j Z@Z@Y@Y@Y)─├Exp(-0.00-0.01j Y@Y@Y)\n",
      "──╰Exp(-0.00-0.01j Z@Z@Y@X@X)─╰Exp(-0.00-0.01j Z@Z@Y@Y@Y)─╰Exp(-0.00-0.01j Y@Y@Y)\n",
      "\n",
      "──╭Exp(0.00+0.00j Z@X@Y@Z)─╭Exp(0.00+0.00j Z@Y@X@Z)────────────────────────────────────────────\n",
      "──│────────────────────────│───────────────────────────────────────────────────────────────────\n",
      "──├Exp(0.00+0.00j Z@X@Y@Z)─├Exp(0.00+0.00j Z@Y@X@Z)─╭Exp(-0.00-0.00j X@Y)─╭Exp(-0.00-0.00j Y@X)\n",
      "──├Exp(0.00+0.00j Z@X@Y@Z)─├Exp(0.00+0.00j Z@Y@X@Z)─╰Exp(-0.00-0.00j X@Y)─╰Exp(-0.00-0.00j Y@X)\n",
      "──╰Exp(0.00+0.00j Z@X@Y@Z)─╰Exp(0.00+0.00j Z@Y@X@Z)────────────────────────────────────────────\n",
      "\n",
      "──╭Exp(0.00+0.00j X@Y)─╭Exp(-0.00-0.00j Y@X)─╭Exp(0.00-0.00j Z@Y@Z)───────────────────\n",
      "──│────────────────────│─────────────────────├Exp(0.00-0.00j Z@Y@Z)──Exp(0.00+0.00j Y)\n",
      "──│────────────────────│─────────────────────│────────────────────────────────────────\n",
      "──│────────────────────│─────────────────────│────────────────────────────────────────\n",
      "──╰Exp(0.00+0.00j X@Y)─╰Exp(-0.00-0.00j Y@X)─╰Exp(0.00-0.00j Z@Y@Z)───────────────────\n",
      "\n",
      "──╭Exp(0.00-0.00j Z@Y@Z)────────────────────╭Exp(0.00+0.00j Z@Y@Z)─────────────────────┤ ╭<𝓗>\n",
      "──│─────────────────────────────────────────│──────────────────────────────────────────┤ ├<𝓗>\n",
      "──├Exp(0.00-0.00j Z@Y@Z)──Exp(0.00+0.00j Y)─│──────────────────────────────────────────┤ ├<𝓗>\n",
      "──│─────────────────────────────────────────├Exp(0.00+0.00j Z@Y@Z)──Exp(-0.00-0.00j Y)─┤ ├<𝓗>\n",
      "──╰Exp(0.00-0.00j Z@Y@Z)────────────────────╰Exp(0.00+0.00j Z@Y@Z)─────────────────────┤ ╰<𝓗>\n"
     ]
    }
   ],
   "source": [
    "print(qml.draw(tapered_circuit)(params))"
   ]
  },
  {
   "cell_type": "code",
   "execution_count": null,
   "id": "fa764065-c7c1-4350-b8e1-f957aac797f2",
   "metadata": {},
   "outputs": [],
   "source": []
  }
 ],
 "metadata": {
  "kernelspec": {
   "display_name": "Python 3 (ipykernel)",
   "language": "python",
   "name": "python3"
  },
  "language_info": {
   "codemirror_mode": {
    "name": "ipython",
    "version": 3
   },
   "file_extension": ".py",
   "mimetype": "text/x-python",
   "name": "python",
   "nbconvert_exporter": "python",
   "pygments_lexer": "ipython3",
   "version": "3.10.8"
  }
 },
 "nbformat": 4,
 "nbformat_minor": 5
}
