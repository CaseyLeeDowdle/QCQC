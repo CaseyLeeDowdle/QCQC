{
 "cells": [
  {
   "cell_type": "code",
   "execution_count": 13,
   "id": "e27419db-47c2-408e-8f87-dccf70dea62e",
   "metadata": {},
   "outputs": [],
   "source": [
    "import pennylane as qml\n",
    "from pennylane import qchem\n",
    "from pennylane import numpy as np\n",
    "import time"
   ]
  },
  {
   "cell_type": "markdown",
   "id": "ede4233d-4f39-41ad-8187-afb36c895c0e",
   "metadata": {},
   "source": [
    "### VQE Overview:\n",
    "https://arxiv.org/abs/2111.05176\n",
    "\n",
    "### Optimizers\n",
    "https://docs.pennylane.ai/en/stable/code/api/pennylane.GradientDescentOptimizer.html \\\n",
    "https://docs.pennylane.ai/en/stable/code/api/pennylane.QNGOptimizer.html \\\n",
    "https://docs.pennylane.ai/en/stable/code/api/pennylane.RotosolveOptimizer.html \n",
    "\n",
    "### Circuit Ansatz \n",
    "https://docs.pennylane.ai/en/stable/introduction/templates.html \\\n",
    "https://docs.pennylane.ai/en/stable/code/api/pennylane.AllSinglesDoubles.html \\\n",
    "https://docs.pennylane.ai/en/stable/code/api/pennylane.UCCSD.html\n",
    "\n",
    "### Computational Chemistry Comparison and Benchmark DataBase\n",
    "https://cccbdb.nist.gov/introx.asp \\\n",
    "H2: https://cccbdb.nist.gov/energy2x.asp\n",
    "\n",
    "### qchem Functions: \n",
    "molecular_hamiltonian - 2nd Quantization of Molecule Hamiltonian and transformation from fermionic Hamiltonian to the qubit Hamiltonian: \\\n",
    "https://docs.pennylane.ai/en/stable/code/api/pennylane.qchem.molecular_hamiltonian.html \\\n",
    "hf_state - generates the occupation-number vector representing the Hartree-Fock state: \\\n",
    "https://docs.pennylane.ai/en/stable/code/api/pennylane.qchem.hf_state.html \\\n",
    "exitations - generates single and double excitations from a Hartree-Fock reference state: \\\n",
    "https://docs.pennylane.ai/en/stable/code/api/pennylane.qchem.excitations.html \\\n",
    "qml.grouping.group_observables -Groups pauli terms to reduce number of circuits evaluated \\\n",
    "https://docs.pennylane.ai/en/stable/code/api/pennylane.grouping.group_observables.html"
   ]
  },
  {
   "cell_type": "code",
   "execution_count": 41,
   "id": "9d4dbe8f-e184-4a9d-900d-a8e76232ecf9",
   "metadata": {},
   "outputs": [
    {
     "name": "stdout",
     "output_type": "stream",
     "text": [
      "h:   (-0.24274280036001472) [Z3]\n",
      "+ (-0.24274280036001467) [Z2]\n",
      "+ (-0.04207898548747538) [I0]\n",
      "+ (0.17771287509155004) [Z1]\n",
      "+ (0.1777128750915501) [Z0]\n",
      "+ (0.12293305042053027) [Z0 Z2]\n",
      "+ (0.12293305042053027) [Z1 Z3]\n",
      "+ (0.16768319427437042) [Z0 Z3]\n",
      "+ (0.16768319427437042) [Z1 Z2]\n",
      "+ (0.17059738363655677) [Z0 Z1]\n",
      "+ (0.17627640714518927) [Z2 Z3]\n",
      "+ (-0.04475014385384016) [Y0 Y1 X2 X3]\n",
      "+ (-0.04475014385384016) [X0 X1 Y2 Y3]\n",
      "+ (0.04475014385384016) [Y0 X1 X2 Y3]\n",
      "+ (0.04475014385384016) [X0 Y1 Y2 X3]\n",
      "qubits: 4\n"
     ]
    }
   ],
   "source": [
    "symbols, coordinates = qchem.read_structure('structures/h2.xyz')\n",
    "# determine how penny lane is doing 2nd quantization, ues basis set, and fermionic to qubit transformation\n",
    "# error mitigation for vqe?\n",
    "# \n",
    "h, qubits = qchem.molecular_hamiltonian(symbols, coordinates, name=\"h2\",basis='sto-3g')\n",
    "print('h:',h)\n",
    "print('qubits:',qubits)"
   ]
  },
  {
   "cell_type": "code",
   "execution_count": 42,
   "id": "43314835-b201-4582-ae6a-2b5e8ed35405",
   "metadata": {},
   "outputs": [],
   "source": [
    "electrons = 2  \n",
    "hf_state = qchem.hf_state(electrons,qubits)\n",
    "singles, doubles = qchem.excitations(electrons,qubits)\n",
    "s_wires, d_wires = qml.qchem.excitations_to_wires(singles, doubles)"
   ]
  },
  {
   "cell_type": "code",
   "execution_count": 43,
   "id": "ba8d5b63-aafb-4090-a33e-f2a07aae9026",
   "metadata": {},
   "outputs": [
    {
     "data": {
      "text/plain": [
       "tensor([1, 1, 0, 0], requires_grad=True)"
      ]
     },
     "execution_count": 43,
     "metadata": {},
     "output_type": "execute_result"
    }
   ],
   "source": [
    "hf_state"
   ]
  },
  {
   "cell_type": "code",
   "execution_count": 19,
   "id": "1c7b1c04-1c35-4e6e-9ecc-952056844be3",
   "metadata": {},
   "outputs": [],
   "source": [
    "dev = qml.device(\"braket.local.qubit\", wires=qubits,shots=1000)"
   ]
  },
  {
   "cell_type": "code",
   "execution_count": 20,
   "id": "7de8ac8d-a398-40fd-b85d-9def55d53a0f",
   "metadata": {},
   "outputs": [],
   "source": [
    "wires = dev.wires.tolist()\n",
    "\n",
    "def circuit_ASD(params,wires):\n",
    "    qml.templates.AllSinglesDoubles(params,wires,hf_state = hf_state,singles = singles,doubles =doubles)\n",
    "\n",
    "def circuit_UCCSD(params,wires):\n",
    "    qml.templates.UCCSD(params,wires,s_wires = s_wires, d_wires = d_wires,init_state=hf_state)"
   ]
  },
  {
   "cell_type": "code",
   "execution_count": 21,
   "id": "891dad96-c5df-4ebc-9f1e-d21fd1741b15",
   "metadata": {},
   "outputs": [],
   "source": [
    "def initialize_params(singles,doubles,np_seed=100):\n",
    "    np.random.seed(seed=np_seed)\n",
    "    return np.random.normal(0, np.pi, len(singles)+len(doubles))"
   ]
  },
  {
   "cell_type": "code",
   "execution_count": 22,
   "id": "18cfb2a4-222a-46b5-b885-d4fa803e6bd5",
   "metadata": {},
   "outputs": [
    {
     "name": "stdout",
     "output_type": "stream",
     "text": [
      "Number of Pauli terms in h: 15\n",
      "Number of qubit-wise commuting groups: 5\n"
     ]
    }
   ],
   "source": [
    "print(\"Number of Pauli terms in h:\", len(h.ops))\n",
    "groups, coeffs = qml.grouping.group_observables(h.ops,h.coeffs)\n",
    "print(\"Number of qubit-wise commuting groups:\", len(groups))\n",
    "h.compute_grouping()\n",
    "wires = dev.wires.tolist()"
   ]
  },
  {
   "cell_type": "code",
   "execution_count": 23,
   "id": "a04c8da7-926a-42d0-b05a-9cc9d141c67e",
   "metadata": {},
   "outputs": [],
   "source": [
    "@qml.qnode(dev)\n",
    "def energy_expval_ASD(params):\n",
    "    circuit_ASD(params,wires)\n",
    "    return qml.expval(h)\n",
    "\n",
    "@qml.qnode(dev)\n",
    "def energy_expval_UCCSD(params):\n",
    "    circuit_UCCSD(params,wires)\n",
    "    return qml.expval(h)"
   ]
  },
  {
   "cell_type": "code",
   "execution_count": 44,
   "id": "feb5dec4-516c-4574-a7a4-3388b35ffc09",
   "metadata": {},
   "outputs": [
    {
     "name": "stdout",
     "output_type": "stream",
     "text": [
      "0: ─╭BasisState(M0)─╭FermionicDoubleExcitation(3.62)─╭FermionicSingleExcitation(-5.50)\n",
      "1: ─├BasisState(M0)─├FermionicDoubleExcitation(3.62)─├FermionicSingleExcitation(-5.50)\n",
      "2: ─├BasisState(M0)─├FermionicDoubleExcitation(3.62)─╰FermionicSingleExcitation(-5.50)\n",
      "3: ─╰BasisState(M0)─╰FermionicDoubleExcitation(3.62)──────────────────────────────────\n",
      "\n",
      "───────────────────────────────────┤ ╭<𝓗>\n",
      "──╭FermionicSingleExcitation(1.08)─┤ ├<𝓗>\n",
      "──├FermionicSingleExcitation(1.08)─┤ ├<𝓗>\n",
      "──╰FermionicSingleExcitation(1.08)─┤ ╰<𝓗>\n"
     ]
    }
   ],
   "source": [
    "params0 = initialize_params(singles,doubles)\n",
    "print(qml.draw(energy_expval_UCCSD)(params0))"
   ]
  },
  {
   "cell_type": "code",
   "execution_count": 45,
   "id": "31f600ad-d36e-446b-b7ba-1f8d3b5dacf1",
   "metadata": {},
   "outputs": [
    {
     "name": "stdout",
     "output_type": "stream",
     "text": [
      "0: ─╭BasisState(M0)─╭G²(3.62)─╭G(-5.50)──────────┤ ╭<𝓗>\n",
      "1: ─├BasisState(M0)─├G²(3.62)─│─────────╭G(1.08)─┤ ├<𝓗>\n",
      "2: ─├BasisState(M0)─├G²(3.62)─╰G(-5.50)─│────────┤ ├<𝓗>\n",
      "3: ─╰BasisState(M0)─╰G²(3.62)───────────╰G(1.08)─┤ ╰<𝓗>\n"
     ]
    }
   ],
   "source": [
    "print(qml.draw(energy_expval_ASD)(params0))"
   ]
  },
  {
   "cell_type": "code",
   "execution_count": 33,
   "id": "fc5f80bb-a9f5-4341-b2de-d36f7d5350f6",
   "metadata": {},
   "outputs": [],
   "source": [
    "STEPSIZE = 0.4\n",
    "opt = qml.GradientDescentOptimizer(stepsize=STEPSIZE)\n",
    "ITERATIONS = 40"
   ]
  },
  {
   "cell_type": "code",
   "execution_count": 30,
   "id": "7ae48545-b4c7-46ac-90c0-d1300d860cdb",
   "metadata": {},
   "outputs": [],
   "source": [
    "def run_vqe(energy_expval, opt,initial_params, iterations):\n",
    "    energies = []\n",
    "    runtime = []\n",
    "    params = initial_params\n",
    "    t0 = time.time()\n",
    "    for i in range(iterations):\n",
    "        params = opt.step(energy_expval,params)\n",
    "        e = energy_expval(params)\n",
    "        energies.append(e)\n",
    "        ti = time.time()\n",
    "        runtime.append(ti-t0)\n",
    "        if (i+1) % 5 == 0:\n",
    "            print(f\"Completed iteration {i + 1}\")\n",
    "            print(\"Energy:\", e)\n",
    "            print(\"----------------\")\n",
    "    print(f\"Optimized energy: {e} Ha\")\n",
    "    return energies,runtime"
   ]
  },
  {
   "cell_type": "code",
   "execution_count": 32,
   "id": "3c8aa94a-bfb8-4d9b-80a4-cfdefb24cc22",
   "metadata": {
    "tags": []
   },
   "outputs": [
    {
     "name": "stdout",
     "output_type": "stream",
     "text": [
      "Completed iteration 5\n",
      "Energy: -1.0890782127539087\n",
      "----------------\n",
      "Completed iteration 10\n",
      "Energy: -1.137071896938201\n",
      "----------------\n",
      "Completed iteration 15\n",
      "Energy: -1.1386392477800815\n",
      "----------------\n",
      "Completed iteration 20\n",
      "Energy: -1.1310419256679891\n",
      "----------------\n",
      "Completed iteration 25\n",
      "Energy: -1.1477309115970065\n",
      "----------------\n",
      "Completed iteration 30\n",
      "Energy: -1.1269559891551326\n",
      "----------------\n",
      "Completed iteration 35\n",
      "Energy: -1.1268478061027816\n",
      "----------------\n",
      "Completed iteration 40\n",
      "Energy: -1.1449898546718393\n",
      "----------------\n",
      "Optimized energy: -1.1449898546718393 Ha\n"
     ]
    }
   ],
   "source": [
    "energies_UCCSD,runtime_UCCSD = run_vqe(energy_expval_UCCSD,opt,params0,ITERATIONS)"
   ]
  },
  {
   "cell_type": "code",
   "execution_count": 34,
   "id": "302a279c-229a-4127-8fe0-8ed7f304ca87",
   "metadata": {},
   "outputs": [
    {
     "name": "stdout",
     "output_type": "stream",
     "text": [
      "Completed iteration 5\n",
      "Energy: -0.17668820585828277\n",
      "----------------\n",
      "Completed iteration 10\n",
      "Energy: -0.8592100143396069\n",
      "----------------\n",
      "Completed iteration 15\n",
      "Energy: -1.0939161624923643\n",
      "----------------\n",
      "Completed iteration 20\n",
      "Energy: -1.1219766214061764\n",
      "----------------\n",
      "Completed iteration 25\n",
      "Energy: -1.1370868498254234\n",
      "----------------\n",
      "Completed iteration 30\n",
      "Energy: -1.140311051796893\n",
      "----------------\n",
      "Completed iteration 35\n",
      "Energy: -1.1335377313807284\n",
      "----------------\n",
      "Completed iteration 40\n",
      "Energy: -1.1365286064043767\n",
      "----------------\n",
      "Optimized energy: -1.1365286064043767 Ha\n"
     ]
    }
   ],
   "source": [
    "energies_ASD,runtime_ASD = run_vqe(energy_expval_ASD,opt,params0,ITERATIONS)"
   ]
  },
  {
   "cell_type": "code",
   "execution_count": 36,
   "id": "712fcb9e-8b2a-4bd3-84f3-335831f29b58",
   "metadata": {},
   "outputs": [
    {
     "data": {
      "text/plain": [
       "<matplotlib.legend.Legend at 0x7fe985e7dae0>"
      ]
     },
     "execution_count": 36,
     "metadata": {},
     "output_type": "execute_result"
    },
    {
     "data": {
      "image/png": "[encoded data removed]",
      "text/plain": [
       "<Figure size 432x288 with 1 Axes>"
      ]
     },
     "metadata": {
      "needs_background": "light"
     },
     "output_type": "display_data"
    }
   ],
   "source": [
    "import matplotlib.pyplot as plt\n",
    "from mpl_toolkits.axes_grid1.inset_locator import inset_axes\n",
    "\n",
    "theory_energy = -1.137306 # Coupled Cluster STO-G3\n",
    "\n",
    "plt.hlines(theory_energy, 0, ITERATIONS-1, linestyles=\"dashed\", colors=\"black\",label='theory energy')\n",
    "plt.plot(energies_ASD,label='ASD')\n",
    "plt.plot(energies_UCCSD,label='UCCSD')\n",
    "plt.xlabel(\"Steps\")\n",
    "plt.ylabel(\"Energy (Ha)\")\n",
    "plt.title('VQE on H2 Ansatz Comparison')\n",
    "plt.legend()"
   ]
  },
  {
   "cell_type": "code",
   "execution_count": 38,
   "id": "1e97990e-19fa-4195-8f17-db9664f5e9a6",
   "metadata": {},
   "outputs": [
    {
     "data": {
      "text/plain": [
       "<matplotlib.legend.Legend at 0x7fe971a87a00>"
      ]
     },
     "execution_count": 38,
     "metadata": {},
     "output_type": "execute_result"
    },
    {
     "data": {
      "image/png": "[encoded data removed]",
      "text/plain": [
       "<Figure size 432x288 with 1 Axes>"
      ]
     },
     "metadata": {
      "needs_background": "light"
     },
     "output_type": "display_data"
    }
   ],
   "source": [
    "plt.plot(runtime_ASD,label='ASD')\n",
    "plt.plot(runtime_UCCSD,label='UCCSD')\n",
    "plt.xlabel(\"Steps\")\n",
    "plt.ylabel(\"Runtime (S)\")\n",
    "plt.title('VQE on H2 Ansatz Runtime Comparison')\n",
    "plt.legend()"
   ]
  }
 ],
 "metadata": {
  "kernelspec": {
   "display_name": "Python 3 (ipykernel)",
   "language": "python",
   "name": "python3"
  },
  "language_info": {
   "codemirror_mode": {
    "name": "ipython",
    "version": 3
   },
   "file_extension": ".py",
   "mimetype": "text/x-python",
   "name": "python",
   "nbconvert_exporter": "python",
   "pygments_lexer": "ipython3",
   "version": "3.10.8"
  }
 },
 "nbformat": 4,
 "nbformat_minor": 5
}
