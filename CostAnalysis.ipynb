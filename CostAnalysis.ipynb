{
 "cells": [
  {
   "cell_type": "code",
   "execution_count": 8,
   "id": "c0716b18-e222-4f45-8cde-78a8bb63078f",
   "metadata": {},
   "outputs": [],
   "source": [
    "# Ionq: $0.30 / task + $0.01 / shot\n",
    "# Rigetti — Aspen-M-2 $0.30 / task + $0.00035 / shot\n",
    "import numpy as np"
   ]
  },
  {
   "cell_type": "code",
   "execution_count": 2,
   "id": "9dd6af4a-85ba-4ad1-83ee-aab9deffcbc6",
   "metadata": {},
   "outputs": [
    {
     "name": "stdout",
     "output_type": "stream",
     "text": [
      "1.00E+06\n",
      "cost: 42036.0\n"
     ]
    }
   ],
   "source": [
    "eps = 10**(-3)\n",
    "N_shots = 1/eps**2\n",
    "N_qubits = 2\n",
    "N_pauli_ops = 6\n",
    "N_params = 1\n",
    "N_iters = 10\n",
    "print('%.2E' %(N_shots))\n",
    "\n",
    "# Rigetti — Aspen-M-2 \n",
    "cost_per_shot = 0.00035\n",
    "cost_per_task = 0.30 \n",
    "\n",
    "N_tasks = N_iters*N_pauli_ops*N_params*2\n",
    "N_shots_total = N_shots*N_tasks\n",
    "\n",
    "print('cost:', cost_per_shot*N_shots_total + cost_per_task*N_tasks)"
   ]
  },
  {
   "cell_type": "code",
   "execution_count": 21,
   "id": "a1f1a290-e753-40df-b54a-e2f584631aee",
   "metadata": {},
   "outputs": [],
   "source": [
    "def cost_function(cost_per_shot,cost_per_task,N_params,N_iterations,N_pauli_ops,N_shots):\n",
    "    \n",
    "    N_tasks = N_iterations*N_pauli_ops*N_params*2\n",
    "    N_shots_total = N_shots*N_tasks\n",
    "    return cost_per_shot*N_shots_total + cost_per_task*N_tasks"
   ]
  },
  {
   "cell_type": "code",
   "execution_count": 27,
   "id": "ae37d8b3-8b21-4336-aecf-d1a37dbe1418",
   "metadata": {},
   "outputs": [
    {
     "name": "stdout",
     "output_type": "stream",
     "text": [
      "M2 cost 10^-2 precision: 309.10285799999997\n",
      "M2 cost 10^-3 precision: 27346.285799999994\n",
      "M2 cost 10^-2 precision: 1401.5142899999998\n",
      "M2 cost 10^-3 precision: 136587.42899999997\n"
     ]
    }
   ],
   "source": [
    "eps1 = 10**(-2)\n",
    "eps2 = 10**(-3)\n",
    "N_params = 1\n",
    "N_pauli = 6\n",
    "N_iters = 10\n",
    "\n",
    "cost_per_shot_m2 = 0.00035\n",
    "cost_per_shot_Ionq = 0.01\n",
    "cost_per_task = 0.30 \n",
    "\n",
    "print('M2 cost 10^-2 precision:',cost_function(cost_per_shot_m2,cost_per_task,N_params,10,N_pauli,N_shots_lower1))\n",
    "print('M2 cost 10^-3 precision:',cost_function(cost_per_shot_m2,cost_per_task,N_params,10,N_pauli,N_shots_lower2))\n",
    "print('M2 cost 10^-2 precision:',cost_function(cost_per_shot_m2,cost_per_task,N_params,10,N_pauli,N_shots_upper1))\n",
    "print('M2 cost 10^-3 precision:',cost_function(cost_per_shot_m2,cost_per_task,N_params,10,N_pauli,N_shots_upper2))"
   ]
  },
  {
   "cell_type": "code",
   "execution_count": 19,
   "id": "5dce341c-52f9-4001-b9e2-d3ea9d8af014",
   "metadata": {},
   "outputs": [
    {
     "name": "stdout",
     "output_type": "stream",
     "text": [
      "5\n"
     ]
    }
   ],
   "source": [
    "pauli_weights = np.array([0.3435,-0.4347,0.5716,0.0910,0.0910])\n",
    "P = len(pauli_weights)\n",
    "print(P)"
   ]
  },
  {
   "cell_type": "code",
   "execution_count": 26,
   "id": "7ea2fde7-3d85-40bc-9254-c8a90e31b880",
   "metadata": {},
   "outputs": [],
   "source": [
    "N_shots_lower1 = np.sum(pauli_weights**2)/eps1**2\n",
    "N_shots_upper1 = P*N_shots_lower1\n",
    "\n",
    "N_shots_lower2 = np.sum(pauli_weights**2)/eps2**2\n",
    "N_shots_upper2 = P*N_shots_lower2"
   ]
  },
  {
   "cell_type": "code",
   "execution_count": 18,
   "id": "4a8ac03f-0fcc-4592-b42f-40d9244f4dad",
   "metadata": {},
   "outputs": [
    {
     "data": {
      "text/plain": [
       "1000000.0"
      ]
     },
     "execution_count": 18,
     "metadata": {},
     "output_type": "execute_result"
    }
   ],
   "source": [
    "1/eps2**2"
   ]
  },
  {
   "cell_type": "code",
   "execution_count": 15,
   "id": "3484d7cf-9474-4e90-8419-86c46b62621a",
   "metadata": {},
   "outputs": [
    {
     "data": {
      "text/plain": [
       "0.6116785"
      ]
     },
     "execution_count": 15,
     "metadata": {},
     "output_type": "execute_result"
    }
   ],
   "source": [
    "np.sum(pauli_weights**2)"
   ]
  },
  {
   "cell_type": "code",
   "execution_count": null,
   "id": "961d8215-5b1c-4c45-886b-70d1a441c067",
   "metadata": {},
   "outputs": [],
   "source": []
  }
 ],
 "metadata": {
  "kernelspec": {
   "display_name": "Python 3 (ipykernel)",
   "language": "python",
   "name": "python3"
  },
  "language_info": {
   "codemirror_mode": {
    "name": "ipython",
    "version": 3
   },
   "file_extension": ".py",
   "mimetype": "text/x-python",
   "name": "python",
   "nbconvert_exporter": "python",
   "pygments_lexer": "ipython3",
   "version": "3.10.8"
  }
 },
 "nbformat": 4,
 "nbformat_minor": 5
}
