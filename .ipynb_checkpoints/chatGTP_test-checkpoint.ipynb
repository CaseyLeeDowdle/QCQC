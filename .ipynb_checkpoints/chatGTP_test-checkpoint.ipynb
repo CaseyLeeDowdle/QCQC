{
 "cells": [
  {
   "cell_type": "code",
   "execution_count": 10,
   "id": "5bcb4281-7e4f-451f-ba3a-7c7453ad544a",
   "metadata": {},
   "outputs": [],
   "source": [
    "# Import the required libraries\n",
    "import pennylane as qml\n",
    "import numpy as np\n",
    "import time\n",
    "\n",
    "dev = qml.device('default.qubit', wires=2)\n",
    "\n",
    "# Define the quantum circuit\n",
    "@qml.qnode(dev)\n",
    "def quantum_circuit(params):\n",
    "    qml.RY(params[0], wires=0)\n",
    "    qml.CNOT(wires=[0,1])\n",
    "    qml.RY(params[1], wires=1)\n",
    "    qml.CNOT(wires=[0,1])\n",
    "    return qml.expval(qml.PauliZ(0) @ qml.PauliZ(1))\n",
    "\n",
    "# Define the molecular Hamiltonian\n",
    "\n",
    "h2 = qml.qchem.molecular_hamiltonian([\"H\",\"H\"],np.array([[1.0,1.0,0.0],[1.0,1.0,1.4]]),basis='sto-3g')\n",
    "\n",
    "# Run the quantum simulation on a quantum computer\n",
    "\n",
    "#results = qml.VQE(quantum_circuit, h2, dev, initial_params=[0.5, -0.5])\n",
    "\n",
    "# Print the estimated ground state energy\n",
    "#print(\"Ground state energy: \", results.fun)\n"
   ]
  },
  {
   "cell_type": "code",
   "execution_count": 13,
   "id": "4fbca0f7-745b-487b-93f3-8a88be29077d",
   "metadata": {},
   "outputs": [],
   "source": [
    "STEPSIZE = 0.4\n",
    "opt = qml.GradientDescentOptimizer(stepsize=STEPSIZE)\n",
    "ITERATIONS = 40\n",
    "def run_vqe(energy_expval, opt,initial_params, iterations):\n",
    "    energies = []\n",
    "    runtime = []\n",
    "    params = initial_params\n",
    "    t0 = time.time()\n",
    "    for i in range(iterations):\n",
    "        params = opt.step(energy_expval,params)\n",
    "        e = energy_expval(params)\n",
    "        energies.append(e)\n",
    "        ti = time.time()\n",
    "        runtime.append(ti-t0)\n",
    "        if (i+1) % 5 == 0:\n",
    "            print(f\"Completed iteration {i + 1}\")\n",
    "            print(\"Energy:\", e)\n",
    "            print(\"Params:\", params)\n",
    "            print(\"----------------\")\n",
    "    print(f\"Optimized energy: {e} Ha\")\n",
    "    return (energies,runtime)"
   ]
  },
  {
   "cell_type": "code",
   "execution_count": 14,
   "id": "25bfbea3-fb09-4a36-beca-baba83002f8a",
   "metadata": {},
   "outputs": [
    {
     "name": "stdout",
     "output_type": "stream",
     "text": [
      "Completed iteration 5\n",
      "Energy: 0.7701511529340697\n",
      "Params: [0.5, -0.5]\n",
      "----------------\n",
      "Completed iteration 10\n",
      "Energy: 0.7701511529340697\n",
      "Params: [0.5, -0.5]\n",
      "----------------\n",
      "Completed iteration 15\n",
      "Energy: 0.7701511529340697\n",
      "Params: [0.5, -0.5]\n",
      "----------------\n",
      "Completed iteration 20\n",
      "Energy: 0.7701511529340697\n",
      "Params: [0.5, -0.5]\n",
      "----------------\n",
      "Completed iteration 25\n",
      "Energy: 0.7701511529340697\n",
      "Params: [0.5, -0.5]\n",
      "----------------\n",
      "Completed iteration 30\n",
      "Energy: 0.7701511529340697\n",
      "Params: [0.5, -0.5]\n",
      "----------------\n",
      "Completed iteration 35\n",
      "Energy: 0.7701511529340697\n",
      "Params: [0.5, -0.5]\n",
      "----------------\n",
      "Completed iteration 40\n",
      "Energy: 0.7701511529340697\n",
      "Params: [0.5, -0.5]\n",
      "----------------\n",
      "Optimized energy: 0.7701511529340697 Ha\n"
     ]
    }
   ],
   "source": [
    "results = run_vqe(quantum_circuit,opt,initial_params=[0.5,-0.5],iterations=ITERATIONS)"
   ]
  },
  {
   "cell_type": "code",
   "execution_count": null,
   "id": "b14ebfe5-da5a-4df0-bca3-60bb8cc95c52",
   "metadata": {},
   "outputs": [],
   "source": []
  }
 ],
 "metadata": {
  "kernelspec": {
   "display_name": "Python 3 (ipykernel)",
   "language": "python",
   "name": "python3"
  },
  "language_info": {
   "codemirror_mode": {
    "name": "ipython",
    "version": 3
   },
   "file_extension": ".py",
   "mimetype": "text/x-python",
   "name": "python",
   "nbconvert_exporter": "python",
   "pygments_lexer": "ipython3",
   "version": "3.10.8"
  }
 },
 "nbformat": 4,
 "nbformat_minor": 5
}
