{
 "cells": [
  {
   "cell_type": "code",
   "execution_count": 1,
   "id": "c0716b18-e222-4f45-8cde-78a8bb63078f",
   "metadata": {},
   "outputs": [],
   "source": [
    "# Ionq: $0.30 / task + $0.01 / shot\n",
    "# Rigetti — Aspen-M-2 $0.30 / task + $0.00035 / shot"
   ]
  },
  {
   "cell_type": "code",
   "execution_count": null,
   "id": "9dd6af4a-85ba-4ad1-83ee-aab9deffcbc6",
   "metadata": {},
   "outputs": [],
   "source": [
    "eps = 10**(-3)\n",
    "N_shots = 1/eps**2\n",
    "N_qubits = 2\n",
    "N_pauli_ops = 6\n",
    "N_params = 1\n",
    "N_iters = 10\n",
    "print('%.2E' %(N_shots))\n",
    "\n",
    "# Rigetti — Aspen-M-2 \n",
    "cost_per_shot = 0.00035\n",
    "cost_per_task = 0.30 \n",
    "\n",
    "N_tasks = N_iters*N_pauli_ops*N_params*2\n",
    "N_shots_total = N_shots*N_tasks\n",
    "\n",
    "print('cost:', cost_per_shot*N_shots_total + cost_per_task*N_tasks)"
   ]
  },
  {
   "cell_type": "code",
   "execution_count": 2,
   "id": "a1f1a290-e753-40df-b54a-e2f584631aee",
   "metadata": {},
   "outputs": [],
   "source": [
    "def cost_function(cost_per_shot,cost_per_task,N_params,N_iterations,N_pauli_ops,eps):\n",
    "    \n",
    "    N_tasks = N_iterations*N_pauli_ops*N_params*2\n",
    "    N_shots = int(1/eps**2)\n",
    "    N_shots_total = N_shots*N_tasks\n",
    "    return cost_per_shot*N_shots_total + cost_per_task*N_tasks"
   ]
  },
  {
   "cell_type": "code",
   "execution_count": 12,
   "id": "ae37d8b3-8b21-4336-aecf-d1a37dbe1418",
   "metadata": {},
   "outputs": [
    {
     "name": "stdout",
     "output_type": "stream",
     "text": [
      "M2 cost 10^-2 precision: 456.0\n",
      "M2 cost 10^-3 precision: 42036.0\n",
      "Ionq cost 10^-2 precision: 12036.0\n",
      "Ionq cost 10^-3 precision: 1200036.0\n"
     ]
    }
   ],
   "source": [
    "eps1 = 10**(-2)\n",
    "eps2 = 10**(-3)\n",
    "N_params = 1\n",
    "N_pauli = 6\n",
    "N_iters = 10\n",
    "\n",
    "cost_per_shot_m2 = 0.00035\n",
    "cost_per_shot_Ionq = 0.01\n",
    "cost_per_task = 0.30 \n",
    "\n",
    "print('M2 cost 10^-2 precision:',cost_function(cost_per_shot_m2,cost_per_task,N_params,10,N_pauli,eps1))\n",
    "print('M2 cost 10^-3 precision:',cost_function(cost_per_shot_m2,cost_per_task,N_params,10,N_pauli,eps2))\n",
    "print('Ionq cost 10^-2 precision:', cost_function(cost_per_shot_Ionq,cost_per_task,N_params,10,N_pauli,eps1))\n",
    "print('Ionq cost 10^-3 precision:', cost_function(cost_per_shot_Ionq,cost_per_task,N_params,10,N_pauli,eps2))"
   ]
  },
  {
   "cell_type": "code",
   "execution_count": null,
   "id": "5dce341c-52f9-4001-b9e2-d3ea9d8af014",
   "metadata": {},
   "outputs": [],
   "source": []
  }
 ],
 "metadata": {
  "kernelspec": {
   "display_name": "Python 3 (ipykernel)",
   "language": "python",
   "name": "python3"
  },
  "language_info": {
   "codemirror_mode": {
    "name": "ipython",
    "version": 3
   },
   "file_extension": ".py",
   "mimetype": "text/x-python",
   "name": "python",
   "nbconvert_exporter": "python",
   "pygments_lexer": "ipython3",
   "version": "3.10.8"
  }
 },
 "nbformat": 4,
 "nbformat_minor": 5
}
