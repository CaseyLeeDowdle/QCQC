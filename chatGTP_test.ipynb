{
 "cells": [
  {
   "cell_type": "code",
   "execution_count": 2,
   "id": "098897b0-e3ab-4c93-8482-2266bb82d393",
   "metadata": {},
   "outputs": [
    {
     "name": "stdout",
     "output_type": "stream",
     "text": [
      "1.718281828459045\n"
     ]
    }
   ],
   "source": [
    "from scipy.integrate import fixed_quad\n",
    "import numpy as np # needed to import another library\n",
    "\n",
    "def integrand(x):\n",
    "    return np.exp(x) #changed exp(x) to np.exp(x)\n",
    "\n",
    "result, error = fixed_quad(integrand, 0, 1, n=20)\n",
    "print(result)"
   ]
  },
  {
   "cell_type": "code",
   "execution_count": 18,
   "id": "5bcb4281-7e4f-451f-ba3a-7c7453ad544a",
   "metadata": {},
   "outputs": [
    {
     "name": "stdout",
     "output_type": "stream",
     "text": [
      "Counter({'00': 507, '11': 493})\n"
     ]
    }
   ],
   "source": [
    "import braket.circuits as circuits\n",
    "#from braket.aws import AwsDevice\n",
    "from braket.devices import LocalSimulator \n",
    "\n",
    "# Create a quantum circuit that prepares the Bell state\n",
    "bell_circuit = circuits.Circuit().h(0).cnot(0, 1)\n",
    "dev = LocalSimulator()\n",
    "\n",
    "# Make 1000 measurements of the circuit in the computational basis\n",
    "results = dev.run(bell_circuit,shots=1000).result()\n",
    "\n",
    "# Print the results of the measurements\n",
    "print(results.measurement_counts)"
   ]
  },
  {
   "cell_type": "code",
   "execution_count": 21,
   "id": "1ae142ee-37ae-4d28-8fff-7db750ed91b5",
   "metadata": {},
   "outputs": [
    {
     "name": "stdout",
     "output_type": "stream",
     "text": [
      "{'00': 510, '11': 490}\n"
     ]
    }
   ],
   "source": [
    "from qiskit import QuantumCircuit, execute, Aer\n",
    "\n",
    "# Create a quantum circuit with two qubits\n",
    "qc = QuantumCircuit(2)\n",
    "\n",
    "# Prepare the Bell state |Bell⟩ = 1/√2(|00⟩ + |11⟩)\n",
    "qc.h(0)\n",
    "qc.cx(0, 1)\n",
    "\n",
    "# Measure the qubits in the computational basis\n",
    "qc.measure_all()\n",
    "\n",
    "# Execute the quantum circuit on a simulator\n",
    "backend = Aer.get_backend('qasm_simulator')\n",
    "job = execute(qc, backend, shots=1000)\n",
    "\n",
    "# Print the results of the measurements\n",
    "print(job.result().get_counts())\n",
    "\n"
   ]
  },
  {
   "cell_type": "code",
   "execution_count": null,
   "id": "8035ab9e-b056-4c0b-9fea-748e956fb836",
   "metadata": {},
   "outputs": [],
   "source": []
  }
 ],
 "metadata": {
  "kernelspec": {
   "display_name": "Python 3 (ipykernel)",
   "language": "python",
   "name": "python3"
  },
  "language_info": {
   "codemirror_mode": {
    "name": "ipython",
    "version": 3
   },
   "file_extension": ".py",
   "mimetype": "text/x-python",
   "name": "python",
   "nbconvert_exporter": "python",
   "pygments_lexer": "ipython3",
   "version": "3.10.8"
  }
 },
 "nbformat": 4,
 "nbformat_minor": 5
}
